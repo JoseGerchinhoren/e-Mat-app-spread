{
 "cells": [
  {
   "cell_type": "code",
   "execution_count": 4,
   "metadata": {},
   "outputs": [
    {
     "name": "stdout",
     "output_type": "stream",
     "text": [
      "PRODUCTO\n",
      "SOJ Dolar MATba    5916\n",
      "MAI Dolar MATba    5655\n",
      "TRI Dolar MATba    4860\n",
      "SOJ MIN            2794\n",
      "MAI MIN            2702\n",
      "SOY Matba          2605\n",
      "TRI MIN            2204\n",
      "CRN Matba          1923\n",
      "SOJ Pesos MATba     376\n",
      "MAI Pesos MATba     292\n",
      "TRI Pesos MATba     167\n",
      "SOF MATba           161\n",
      "TRI Disponible      117\n",
      "SOJ Disponible       44\n",
      "MAI Disponible       21\n",
      "NOVP Matba           20\n",
      "SORGO                11\n",
      "SORGO ARS            10\n",
      "TERP Matba            3\n",
      "Name: count, dtype: int64\n"
     ]
    }
   ],
   "source": [
    "import pandas as pd\n",
    "\n",
    "# Cargar el archivo CSV\n",
    "archivo = 'historico_spread.csv'\n",
    "df = pd.read_csv(archivo)\n",
    "\n",
    "# Contar los registros de cada producto\n",
    "conteo_productos = df['PRODUCTO'].value_counts()\n",
    "\n",
    "# Mostrar el conteo\n",
    "print(conteo_productos)\n"
   ]
  },
  {
   "cell_type": "code",
   "execution_count": 5,
   "metadata": {},
   "outputs": [
    {
     "name": "stdout",
     "output_type": "stream",
     "text": [
      "PRODUCTO\n",
      "SOJ Dolar MATba    5916\n",
      "MAI Dolar MATba    5655\n",
      "TRI Dolar MATba    4860\n",
      "Name: count, dtype: int64\n"
     ]
    }
   ],
   "source": [
    "# Filtrar los productos deseados\n",
    "productos_deseados = ['SOJ Dolar MATba', 'MAI Dolar MATba', 'TRI Dolar MATba', \"TRI Disponible\", \"SOJ Disponible\", \"MAI Disponible\"]\n",
    "df_filtrado = df[df['PRODUCTO'].isin(productos_deseados)]\n",
    "\n",
    "# Guardar el DataFrame filtrado en un nuevo archivo CSV\n",
    "archivo_filtrado = 'historico_spread.csv'\n",
    "df_filtrado.to_csv(archivo_filtrado, index=False)\n",
    "\n",
    "# Mostrar el conteo de productos en el DataFrame filtrado\n",
    "conteo_productos = df_filtrado['PRODUCTO'].value_counts()\n",
    "print(conteo_productos)"
   ]
  }
 ],
 "metadata": {
  "kernelspec": {
   "display_name": "Python 3",
   "language": "python",
   "name": "python3"
  },
  "language_info": {
   "codemirror_mode": {
    "name": "ipython",
    "version": 3
   },
   "file_extension": ".py",
   "mimetype": "text/x-python",
   "name": "python",
   "nbconvert_exporter": "python",
   "pygments_lexer": "ipython3",
   "version": "3.11.1"
  }
 },
 "nbformat": 4,
 "nbformat_minor": 2
}
