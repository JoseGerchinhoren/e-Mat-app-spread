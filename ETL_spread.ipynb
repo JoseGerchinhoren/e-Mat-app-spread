{
 "cells": [
  {
   "cell_type": "code",
   "execution_count": 25,
   "metadata": {},
   "outputs": [],
   "source": [
    "import pandas as pd\n",
    "\n",
    "# Cargar datos\n",
    "df = pd.read_csv('closing_prices.csv', delimiter=\";\")\n"
   ]
  },
  {
   "cell_type": "code",
   "execution_count": 26,
   "metadata": {},
   "outputs": [
    {
     "data": {
      "text/html": [
       "<div>\n",
       "<style scoped>\n",
       "    .dataframe tbody tr th:only-of-type {\n",
       "        vertical-align: middle;\n",
       "    }\n",
       "\n",
       "    .dataframe tbody tr th {\n",
       "        vertical-align: top;\n",
       "    }\n",
       "\n",
       "    .dataframe thead th {\n",
       "        text-align: right;\n",
       "    }\n",
       "</style>\n",
       "<table border=\"1\" class=\"dataframe\">\n",
       "  <thead>\n",
       "    <tr style=\"text-align: right;\">\n",
       "      <th></th>\n",
       "      <th>PRODUCTO</th>\n",
       "      <th>TIPO CONTRATO</th>\n",
       "      <th>TIPO OPCION</th>\n",
       "      <th>EJERCICIO</th>\n",
       "      <th>FECHA</th>\n",
       "      <th>ANTERIOR</th>\n",
       "      <th>PRIMERO</th>\n",
       "      <th>MINIMO</th>\n",
       "      <th>MAXIMO</th>\n",
       "      <th>ULTIMO</th>\n",
       "      <th>VOLUMEN</th>\n",
       "      <th>AJUSTE / PRIMA REF.</th>\n",
       "      <th>T. IMPLICITA</th>\n",
       "      <th>VAR %</th>\n",
       "      <th>IA</th>\n",
       "      <th>VAR. IA</th>\n",
       "      <th>TRADES</th>\n",
       "    </tr>\n",
       "  </thead>\n",
       "  <tbody>\n",
       "    <tr>\n",
       "      <th>0</th>\n",
       "      <td>CRN Matba</td>\n",
       "      <td>CRN.CME/AGO23</td>\n",
       "      <td>NaN</td>\n",
       "      <td>NaN</td>\n",
       "      <td>03-07-2023</td>\n",
       "      <td>195,600000</td>\n",
       "      <td>192,800000</td>\n",
       "      <td>192,800000</td>\n",
       "      <td>195,000000</td>\n",
       "      <td>195,000000</td>\n",
       "      <td>32</td>\n",
       "      <td>192,800000</td>\n",
       "      <td>NaN</td>\n",
       "      <td>-1,431493</td>\n",
       "      <td>107,000000</td>\n",
       "      <td>-26,000000</td>\n",
       "      <td>3</td>\n",
       "    </tr>\n",
       "    <tr>\n",
       "      <th>1</th>\n",
       "      <td>CRN Matba</td>\n",
       "      <td>CRN.CME/NOV23</td>\n",
       "      <td>NaN</td>\n",
       "      <td>NaN</td>\n",
       "      <td>03-07-2023</td>\n",
       "      <td>202,500000</td>\n",
       "      <td>200,000000</td>\n",
       "      <td>196,700000</td>\n",
       "      <td>200,000000</td>\n",
       "      <td>197,000000</td>\n",
       "      <td>2291</td>\n",
       "      <td>197,000000</td>\n",
       "      <td>NaN</td>\n",
       "      <td>-2,716049</td>\n",
       "      <td>4232,000000</td>\n",
       "      <td>1867,000000</td>\n",
       "      <td>42</td>\n",
       "    </tr>\n",
       "    <tr>\n",
       "      <th>2</th>\n",
       "      <td>CRN Matba</td>\n",
       "      <td>CRN.CME/ABR24</td>\n",
       "      <td>NaN</td>\n",
       "      <td>NaN</td>\n",
       "      <td>03-07-2023</td>\n",
       "      <td>204,000000</td>\n",
       "      <td>205,000000</td>\n",
       "      <td>201,700000</td>\n",
       "      <td>205,000000</td>\n",
       "      <td>202,000000</td>\n",
       "      <td>953</td>\n",
       "      <td>202,000000</td>\n",
       "      <td>NaN</td>\n",
       "      <td>-0,980392</td>\n",
       "      <td>1084,000000</td>\n",
       "      <td>-923,000000</td>\n",
       "      <td>46</td>\n",
       "    </tr>\n",
       "    <tr>\n",
       "      <th>3</th>\n",
       "      <td>MAI Dolar MATba</td>\n",
       "      <td>MAI.ROS/JUL23</td>\n",
       "      <td>NaN</td>\n",
       "      <td>NaN</td>\n",
       "      <td>03-07-2023</td>\n",
       "      <td>182,500000</td>\n",
       "      <td>182,000000</td>\n",
       "      <td>179,000000</td>\n",
       "      <td>182,000000</td>\n",
       "      <td>179,500000</td>\n",
       "      <td>674</td>\n",
       "      <td>180,000000</td>\n",
       "      <td>NaN</td>\n",
       "      <td>-1,369863</td>\n",
       "      <td>4176,000000</td>\n",
       "      <td>-150,000000</td>\n",
       "      <td>255</td>\n",
       "    </tr>\n",
       "    <tr>\n",
       "      <th>4</th>\n",
       "      <td>MAI Dolar MATba</td>\n",
       "      <td>MAI.ROS/SEP23</td>\n",
       "      <td>NaN</td>\n",
       "      <td>NaN</td>\n",
       "      <td>03-07-2023</td>\n",
       "      <td>185,600000</td>\n",
       "      <td>185,000000</td>\n",
       "      <td>182,000000</td>\n",
       "      <td>185,000000</td>\n",
       "      <td>183,000000</td>\n",
       "      <td>70</td>\n",
       "      <td>183,000000</td>\n",
       "      <td>NaN</td>\n",
       "      <td>-1,400862</td>\n",
       "      <td>2726,000000</td>\n",
       "      <td>-6,000000</td>\n",
       "      <td>41</td>\n",
       "    </tr>\n",
       "  </tbody>\n",
       "</table>\n",
       "</div>"
      ],
      "text/plain": [
       "          PRODUCTO  TIPO CONTRATO  TIPO OPCION  EJERCICIO       FECHA  \\\n",
       "0        CRN Matba  CRN.CME/AGO23          NaN        NaN  03-07-2023   \n",
       "1        CRN Matba  CRN.CME/NOV23          NaN        NaN  03-07-2023   \n",
       "2        CRN Matba  CRN.CME/ABR24          NaN        NaN  03-07-2023   \n",
       "3  MAI Dolar MATba  MAI.ROS/JUL23          NaN        NaN  03-07-2023   \n",
       "4  MAI Dolar MATba  MAI.ROS/SEP23          NaN        NaN  03-07-2023   \n",
       "\n",
       "     ANTERIOR     PRIMERO      MINIMO      MAXIMO      ULTIMO  VOLUMEN  \\\n",
       "0  195,600000  192,800000  192,800000  195,000000  195,000000       32   \n",
       "1  202,500000  200,000000  196,700000  200,000000  197,000000     2291   \n",
       "2  204,000000  205,000000  201,700000  205,000000  202,000000      953   \n",
       "3  182,500000  182,000000  179,000000  182,000000  179,500000      674   \n",
       "4  185,600000  185,000000  182,000000  185,000000  183,000000       70   \n",
       "\n",
       "  AJUSTE / PRIMA REF.  T. IMPLICITA      VAR %           IA      VAR. IA  \\\n",
       "0          192,800000           NaN  -1,431493   107,000000   -26,000000   \n",
       "1          197,000000           NaN  -2,716049  4232,000000  1867,000000   \n",
       "2          202,000000           NaN  -0,980392  1084,000000  -923,000000   \n",
       "3          180,000000           NaN  -1,369863  4176,000000  -150,000000   \n",
       "4          183,000000           NaN  -1,400862  2726,000000    -6,000000   \n",
       "\n",
       "   TRADES  \n",
       "0       3  \n",
       "1      42  \n",
       "2      46  \n",
       "3     255  \n",
       "4      41  "
      ]
     },
     "execution_count": 26,
     "metadata": {},
     "output_type": "execute_result"
    }
   ],
   "source": [
    "df.head(5)"
   ]
  },
  {
   "cell_type": "code",
   "execution_count": 27,
   "metadata": {},
   "outputs": [
    {
     "data": {
      "text/plain": [
       "Index(['PRODUCTO', 'TIPO CONTRATO', 'TIPO OPCION', 'EJERCICIO', 'FECHA',\n",
       "       'ANTERIOR', 'PRIMERO', 'MINIMO', 'MAXIMO', 'ULTIMO', 'VOLUMEN',\n",
       "       'AJUSTE / PRIMA REF.', 'T. IMPLICITA', 'VAR %', 'IA', 'VAR. IA',\n",
       "       'TRADES'],\n",
       "      dtype='object')"
      ]
     },
     "execution_count": 27,
     "metadata": {},
     "output_type": "execute_result"
    }
   ],
   "source": [
    "df.columns"
   ]
  },
  {
   "cell_type": "code",
   "execution_count": 28,
   "metadata": {},
   "outputs": [],
   "source": [
    "# Seleccionar solo las columnas deseadas\n",
    "columnas_deseadas = ['PRODUCTO', 'TIPO CONTRATO', 'FECHA', 'AJUSTE / PRIMA REF.']\n",
    "df = df[columnas_deseadas]"
   ]
  },
  {
   "cell_type": "code",
   "execution_count": 29,
   "metadata": {},
   "outputs": [
    {
     "name": "stdout",
     "output_type": "stream",
     "text": [
      "<class 'pandas.core.frame.DataFrame'>\n",
      "RangeIndex: 6394 entries, 0 to 6393\n",
      "Data columns (total 4 columns):\n",
      " #   Column               Non-Null Count  Dtype \n",
      "---  ------               --------------  ----- \n",
      " 0   PRODUCTO             6394 non-null   object\n",
      " 1   TIPO CONTRATO        6394 non-null   object\n",
      " 2   FECHA                6394 non-null   object\n",
      " 3   AJUSTE / PRIMA REF.  6394 non-null   object\n",
      "dtypes: object(4)\n",
      "memory usage: 199.9+ KB\n"
     ]
    }
   ],
   "source": [
    "df.info()"
   ]
  },
  {
   "cell_type": "code",
   "execution_count": 30,
   "metadata": {},
   "outputs": [
    {
     "data": {
      "text/html": [
       "<div>\n",
       "<style scoped>\n",
       "    .dataframe tbody tr th:only-of-type {\n",
       "        vertical-align: middle;\n",
       "    }\n",
       "\n",
       "    .dataframe tbody tr th {\n",
       "        vertical-align: top;\n",
       "    }\n",
       "\n",
       "    .dataframe thead th {\n",
       "        text-align: right;\n",
       "    }\n",
       "</style>\n",
       "<table border=\"1\" class=\"dataframe\">\n",
       "  <thead>\n",
       "    <tr style=\"text-align: right;\">\n",
       "      <th></th>\n",
       "      <th>PRODUCTO</th>\n",
       "      <th>TIPO CONTRATO</th>\n",
       "      <th>FECHA</th>\n",
       "      <th>AJUSTE / PRIMA REF.</th>\n",
       "    </tr>\n",
       "  </thead>\n",
       "  <tbody>\n",
       "    <tr>\n",
       "      <th>0</th>\n",
       "      <td>CRN Matba</td>\n",
       "      <td>CRN.CME/AGO23</td>\n",
       "      <td>03-07-2023</td>\n",
       "      <td>192,800000</td>\n",
       "    </tr>\n",
       "  </tbody>\n",
       "</table>\n",
       "</div>"
      ],
      "text/plain": [
       "    PRODUCTO  TIPO CONTRATO       FECHA AJUSTE / PRIMA REF.\n",
       "0  CRN Matba  CRN.CME/AGO23  03-07-2023          192,800000"
      ]
     },
     "execution_count": 30,
     "metadata": {},
     "output_type": "execute_result"
    }
   ],
   "source": [
    "df.head(1)"
   ]
  },
  {
   "cell_type": "code",
   "execution_count": 32,
   "metadata": {},
   "outputs": [],
   "source": [
    "# Convertir tipos de datos\n",
    "df['FECHA'] = pd.to_datetime(df['FECHA'], format='%d-%m-%Y')\n",
    "\n",
    "# Reemplazar comas por puntos y convertir a float\n",
    "df['AJUSTE / PRIMA REF.'] = df['AJUSTE / PRIMA REF.'].str.replace(',', '.').astype(float)\n"
   ]
  },
  {
   "cell_type": "code",
   "execution_count": 33,
   "metadata": {},
   "outputs": [
    {
     "name": "stdout",
     "output_type": "stream",
     "text": [
      "<class 'pandas.core.frame.DataFrame'>\n",
      "RangeIndex: 6394 entries, 0 to 6393\n",
      "Data columns (total 4 columns):\n",
      " #   Column               Non-Null Count  Dtype         \n",
      "---  ------               --------------  -----         \n",
      " 0   PRODUCTO             6394 non-null   object        \n",
      " 1   TIPO CONTRATO        6394 non-null   object        \n",
      " 2   FECHA                6394 non-null   datetime64[ns]\n",
      " 3   AJUSTE / PRIMA REF.  6394 non-null   float64       \n",
      "dtypes: datetime64[ns](1), float64(1), object(2)\n",
      "memory usage: 199.9+ KB\n"
     ]
    }
   ],
   "source": [
    "df.info()"
   ]
  },
  {
   "cell_type": "code",
   "execution_count": 36,
   "metadata": {},
   "outputs": [],
   "source": [
    "df.to_csv('closing_prices_limpio.csv', index=False)"
   ]
  }
 ],
 "metadata": {
  "kernelspec": {
   "display_name": "Python 3",
   "language": "python",
   "name": "python3"
  },
  "language_info": {
   "codemirror_mode": {
    "name": "ipython",
    "version": 3
   },
   "file_extension": ".py",
   "mimetype": "text/x-python",
   "name": "python",
   "nbconvert_exporter": "python",
   "pygments_lexer": "ipython3",
   "version": "3.11.1"
  }
 },
 "nbformat": 4,
 "nbformat_minor": 2
}
