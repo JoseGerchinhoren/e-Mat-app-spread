{
 "cells": [
  {
   "cell_type": "code",
   "execution_count": 21,
   "metadata": {},
   "outputs": [],
   "source": [
    "import pandas as pd\n",
    "\n",
    "# Cargar datos\n",
    "df = pd.read_csv('closing_prices.csv', delimiter=\";\")\n"
   ]
  },
  {
   "cell_type": "code",
   "execution_count": 22,
   "metadata": {},
   "outputs": [
    {
     "data": {
      "text/html": [
       "<div>\n",
       "<style scoped>\n",
       "    .dataframe tbody tr th:only-of-type {\n",
       "        vertical-align: middle;\n",
       "    }\n",
       "\n",
       "    .dataframe tbody tr th {\n",
       "        vertical-align: top;\n",
       "    }\n",
       "\n",
       "    .dataframe thead th {\n",
       "        text-align: right;\n",
       "    }\n",
       "</style>\n",
       "<table border=\"1\" class=\"dataframe\">\n",
       "  <thead>\n",
       "    <tr style=\"text-align: right;\">\n",
       "      <th></th>\n",
       "      <th>PRODUCTO</th>\n",
       "      <th>TIPO CONTRATO</th>\n",
       "      <th>TIPO OPCION</th>\n",
       "      <th>EJERCICIO</th>\n",
       "      <th>FECHA</th>\n",
       "      <th>ANTERIOR</th>\n",
       "      <th>PRIMERO</th>\n",
       "      <th>MINIMO</th>\n",
       "      <th>MAXIMO</th>\n",
       "      <th>ULTIMO</th>\n",
       "      <th>VOLUMEN</th>\n",
       "      <th>AJUSTE / PRIMA REF.</th>\n",
       "      <th>T. IMPLICITA</th>\n",
       "      <th>VAR %</th>\n",
       "      <th>IA</th>\n",
       "      <th>VAR. IA</th>\n",
       "      <th>TRADES</th>\n",
       "    </tr>\n",
       "  </thead>\n",
       "  <tbody>\n",
       "    <tr>\n",
       "      <th>0</th>\n",
       "      <td>CRN Matba</td>\n",
       "      <td>CRN.CME/FEB20</td>\n",
       "      <td>NaN</td>\n",
       "      <td>NaN</td>\n",
       "      <td>02-01-2020</td>\n",
       "      <td>152,900000</td>\n",
       "      <td>154,500000</td>\n",
       "      <td>154,500000</td>\n",
       "      <td>154,500000</td>\n",
       "      <td>154,500000</td>\n",
       "      <td>200</td>\n",
       "      <td>154,500000</td>\n",
       "      <td>NaN</td>\n",
       "      <td>1,046436</td>\n",
       "      <td>2568,000000</td>\n",
       "      <td>200,000000</td>\n",
       "      <td>2</td>\n",
       "    </tr>\n",
       "    <tr>\n",
       "      <th>1</th>\n",
       "      <td>MAI Dolar MATba</td>\n",
       "      <td>MAI.ROS/ABR20</td>\n",
       "      <td>NaN</td>\n",
       "      <td>NaN</td>\n",
       "      <td>02-01-2020</td>\n",
       "      <td>139,500000</td>\n",
       "      <td>139,000000</td>\n",
       "      <td>139,000000</td>\n",
       "      <td>140,100000</td>\n",
       "      <td>140,000000</td>\n",
       "      <td>66</td>\n",
       "      <td>140,000000</td>\n",
       "      <td>NaN</td>\n",
       "      <td>0,358423</td>\n",
       "      <td>8054,000000</td>\n",
       "      <td>-31,000000</td>\n",
       "      <td>32</td>\n",
       "    </tr>\n",
       "    <tr>\n",
       "      <th>2</th>\n",
       "      <td>MAI Dolar MATba</td>\n",
       "      <td>MAI.ROS/JUL20</td>\n",
       "      <td>NaN</td>\n",
       "      <td>NaN</td>\n",
       "      <td>02-01-2020</td>\n",
       "      <td>133,700000</td>\n",
       "      <td>133,000000</td>\n",
       "      <td>133,000000</td>\n",
       "      <td>134,000000</td>\n",
       "      <td>133,600000</td>\n",
       "      <td>16</td>\n",
       "      <td>133,700000</td>\n",
       "      <td>NaN</td>\n",
       "      <td>0,000000</td>\n",
       "      <td>5308,000000</td>\n",
       "      <td>-3,000000</td>\n",
       "      <td>13</td>\n",
       "    </tr>\n",
       "    <tr>\n",
       "      <th>3</th>\n",
       "      <td>MAI MIN</td>\n",
       "      <td>MAI.MIN/ABR20</td>\n",
       "      <td>NaN</td>\n",
       "      <td>NaN</td>\n",
       "      <td>02-01-2020</td>\n",
       "      <td>139,500000</td>\n",
       "      <td>140,000000</td>\n",
       "      <td>140,000000</td>\n",
       "      <td>140,100000</td>\n",
       "      <td>140,100000</td>\n",
       "      <td>128</td>\n",
       "      <td>140,000000</td>\n",
       "      <td>NaN</td>\n",
       "      <td>0,358423</td>\n",
       "      <td>244,000000</td>\n",
       "      <td>0,000000</td>\n",
       "      <td>5</td>\n",
       "    </tr>\n",
       "    <tr>\n",
       "      <th>4</th>\n",
       "      <td>MAI MIN</td>\n",
       "      <td>MAI.MIN/JUL20</td>\n",
       "      <td>NaN</td>\n",
       "      <td>NaN</td>\n",
       "      <td>02-01-2020</td>\n",
       "      <td>133,700000</td>\n",
       "      <td>133,100000</td>\n",
       "      <td>133,100000</td>\n",
       "      <td>134,500000</td>\n",
       "      <td>134,500000</td>\n",
       "      <td>102</td>\n",
       "      <td>133,700000</td>\n",
       "      <td>NaN</td>\n",
       "      <td>0,000000</td>\n",
       "      <td>27,000000</td>\n",
       "      <td>-2,000000</td>\n",
       "      <td>3</td>\n",
       "    </tr>\n",
       "  </tbody>\n",
       "</table>\n",
       "</div>"
      ],
      "text/plain": [
       "          PRODUCTO  TIPO CONTRATO  TIPO OPCION  EJERCICIO       FECHA  \\\n",
       "0        CRN Matba  CRN.CME/FEB20          NaN        NaN  02-01-2020   \n",
       "1  MAI Dolar MATba  MAI.ROS/ABR20          NaN        NaN  02-01-2020   \n",
       "2  MAI Dolar MATba  MAI.ROS/JUL20          NaN        NaN  02-01-2020   \n",
       "3          MAI MIN  MAI.MIN/ABR20          NaN        NaN  02-01-2020   \n",
       "4          MAI MIN  MAI.MIN/JUL20          NaN        NaN  02-01-2020   \n",
       "\n",
       "     ANTERIOR     PRIMERO      MINIMO      MAXIMO      ULTIMO  VOLUMEN  \\\n",
       "0  152,900000  154,500000  154,500000  154,500000  154,500000      200   \n",
       "1  139,500000  139,000000  139,000000  140,100000  140,000000       66   \n",
       "2  133,700000  133,000000  133,000000  134,000000  133,600000       16   \n",
       "3  139,500000  140,000000  140,000000  140,100000  140,100000      128   \n",
       "4  133,700000  133,100000  133,100000  134,500000  134,500000      102   \n",
       "\n",
       "  AJUSTE / PRIMA REF.  T. IMPLICITA     VAR %           IA     VAR. IA  TRADES  \n",
       "0          154,500000           NaN  1,046436  2568,000000  200,000000       2  \n",
       "1          140,000000           NaN  0,358423  8054,000000  -31,000000      32  \n",
       "2          133,700000           NaN  0,000000  5308,000000   -3,000000      13  \n",
       "3          140,000000           NaN  0,358423   244,000000    0,000000       5  \n",
       "4          133,700000           NaN  0,000000    27,000000   -2,000000       3  "
      ]
     },
     "execution_count": 22,
     "metadata": {},
     "output_type": "execute_result"
    }
   ],
   "source": [
    "df.head(5)"
   ]
  },
  {
   "cell_type": "code",
   "execution_count": 23,
   "metadata": {},
   "outputs": [
    {
     "data": {
      "text/plain": [
       "Index(['PRODUCTO', 'TIPO CONTRATO', 'TIPO OPCION', 'EJERCICIO', 'FECHA',\n",
       "       'ANTERIOR', 'PRIMERO', 'MINIMO', 'MAXIMO', 'ULTIMO', 'VOLUMEN',\n",
       "       'AJUSTE / PRIMA REF.', 'T. IMPLICITA', 'VAR %', 'IA', 'VAR. IA',\n",
       "       'TRADES'],\n",
       "      dtype='object')"
      ]
     },
     "execution_count": 23,
     "metadata": {},
     "output_type": "execute_result"
    }
   ],
   "source": [
    "df.columns"
   ]
  },
  {
   "cell_type": "code",
   "execution_count": 24,
   "metadata": {},
   "outputs": [],
   "source": [
    "# Seleccionar solo las columnas deseadas\n",
    "columnas_deseadas = ['PRODUCTO', 'TIPO CONTRATO', 'FECHA', 'AJUSTE / PRIMA REF.']\n",
    "df = df[columnas_deseadas]"
   ]
  },
  {
   "cell_type": "code",
   "execution_count": 25,
   "metadata": {},
   "outputs": [
    {
     "name": "stdout",
     "output_type": "stream",
     "text": [
      "<class 'pandas.core.frame.DataFrame'>\n",
      "RangeIndex: 29848 entries, 0 to 29847\n",
      "Data columns (total 4 columns):\n",
      " #   Column               Non-Null Count  Dtype \n",
      "---  ------               --------------  ----- \n",
      " 0   PRODUCTO             29848 non-null  object\n",
      " 1   TIPO CONTRATO        29848 non-null  object\n",
      " 2   FECHA                29848 non-null  object\n",
      " 3   AJUSTE / PRIMA REF.  29848 non-null  object\n",
      "dtypes: object(4)\n",
      "memory usage: 932.9+ KB\n"
     ]
    }
   ],
   "source": [
    "df.info()"
   ]
  },
  {
   "cell_type": "code",
   "execution_count": 26,
   "metadata": {},
   "outputs": [
    {
     "data": {
      "text/html": [
       "<div>\n",
       "<style scoped>\n",
       "    .dataframe tbody tr th:only-of-type {\n",
       "        vertical-align: middle;\n",
       "    }\n",
       "\n",
       "    .dataframe tbody tr th {\n",
       "        vertical-align: top;\n",
       "    }\n",
       "\n",
       "    .dataframe thead th {\n",
       "        text-align: right;\n",
       "    }\n",
       "</style>\n",
       "<table border=\"1\" class=\"dataframe\">\n",
       "  <thead>\n",
       "    <tr style=\"text-align: right;\">\n",
       "      <th></th>\n",
       "      <th>PRODUCTO</th>\n",
       "      <th>TIPO CONTRATO</th>\n",
       "      <th>FECHA</th>\n",
       "      <th>AJUSTE / PRIMA REF.</th>\n",
       "    </tr>\n",
       "  </thead>\n",
       "  <tbody>\n",
       "    <tr>\n",
       "      <th>0</th>\n",
       "      <td>CRN Matba</td>\n",
       "      <td>CRN.CME/FEB20</td>\n",
       "      <td>02-01-2020</td>\n",
       "      <td>154,500000</td>\n",
       "    </tr>\n",
       "  </tbody>\n",
       "</table>\n",
       "</div>"
      ],
      "text/plain": [
       "    PRODUCTO  TIPO CONTRATO       FECHA AJUSTE / PRIMA REF.\n",
       "0  CRN Matba  CRN.CME/FEB20  02-01-2020          154,500000"
      ]
     },
     "execution_count": 26,
     "metadata": {},
     "output_type": "execute_result"
    }
   ],
   "source": [
    "df.head(1)"
   ]
  },
  {
   "cell_type": "code",
   "execution_count": 27,
   "metadata": {},
   "outputs": [],
   "source": [
    "# Convertir tipos de datos\n",
    "df['FECHA'] = pd.to_datetime(df['FECHA'], format='%d-%m-%Y')\n",
    "\n",
    "# Reemplazar comas por puntos y convertir a float\n",
    "df['AJUSTE / PRIMA REF.'] = df['AJUSTE / PRIMA REF.'].str.replace(',', '.').astype(float)\n"
   ]
  },
  {
   "cell_type": "code",
   "execution_count": null,
   "metadata": {},
   "outputs": [],
   "source": [
    "# Reordenar las columnas según el nuevo orden deseado\n",
    "df = df[['FECHA', 'PRODUCTO', 'TIPO CONTRATO', 'AJUSTE / PRIMA REF.']]"
   ]
  },
  {
   "cell_type": "code",
   "execution_count": 28,
   "metadata": {},
   "outputs": [
    {
     "name": "stdout",
     "output_type": "stream",
     "text": [
      "<class 'pandas.core.frame.DataFrame'>\n",
      "RangeIndex: 29848 entries, 0 to 29847\n",
      "Data columns (total 4 columns):\n",
      " #   Column               Non-Null Count  Dtype         \n",
      "---  ------               --------------  -----         \n",
      " 0   PRODUCTO             29848 non-null  object        \n",
      " 1   TIPO CONTRATO        29848 non-null  object        \n",
      " 2   FECHA                29848 non-null  datetime64[ns]\n",
      " 3   AJUSTE / PRIMA REF.  29848 non-null  float64       \n",
      "dtypes: datetime64[ns](1), float64(1), object(2)\n",
      "memory usage: 932.9+ KB\n"
     ]
    }
   ],
   "source": [
    "df.info()"
   ]
  },
  {
   "cell_type": "code",
   "execution_count": 29,
   "metadata": {},
   "outputs": [
    {
     "name": "stdout",
     "output_type": "stream",
     "text": [
      "PRODUCTO\n",
      "SOJ Dolar MATba    5925\n",
      "MAI Dolar MATba    5664\n",
      "TRI Dolar MATba    4856\n",
      "SOJ MIN            2796\n",
      "MAI MIN            2706\n",
      "SOY Matba          2607\n",
      "TRI MIN            2202\n",
      "CRN Matba          1921\n",
      "SOJ Pesos MATba     375\n",
      "MAI Pesos MATba     287\n",
      "SOF MATba           161\n",
      "TRI Pesos MATba     155\n",
      "TRI Disponible      110\n",
      "SOJ Disponible       37\n",
      "NOVP Matba           20\n",
      "MAI Disponible       14\n",
      "SORGO                 6\n",
      "TERP Matba            3\n",
      "SORGO ARS             3\n",
      "Name: count, dtype: int64\n"
     ]
    }
   ],
   "source": [
    "# Contar los registros de cada producto\n",
    "conteo_productos = df['PRODUCTO'].value_counts()\n",
    "\n",
    "# Mostrar el conteo\n",
    "print(conteo_productos)"
   ]
  },
  {
   "cell_type": "code",
   "execution_count": 30,
   "metadata": {},
   "outputs": [
    {
     "name": "stdout",
     "output_type": "stream",
     "text": [
      "PRODUCTO\n",
      "SOJ Dolar MATba    5925\n",
      "MAI Dolar MATba    5664\n",
      "TRI Dolar MATba    4856\n",
      "TRI Disponible      110\n",
      "SOJ Disponible       37\n",
      "MAI Disponible       14\n",
      "Name: count, dtype: int64\n"
     ]
    }
   ],
   "source": [
    "# Lista de productos a filtrar\n",
    "productos_filtrados = [\n",
    "    'SOJ Dolar MATba', \n",
    "    'MAI Dolar MATba', \n",
    "    'TRI Dolar MATba', \n",
    "    'TRI Disponible', \n",
    "    'SOJ Disponible', \n",
    "    'MAI Disponible'\n",
    "]\n",
    "\n",
    "# Filtrar el DataFrame\n",
    "df_filtrado = df[df['PRODUCTO'].isin(productos_filtrados)]\n",
    "\n",
    "# Mostrar el conteo de productos en el DataFrame filtrado\n",
    "conteo_productos = df_filtrado['PRODUCTO'].value_counts()\n",
    "print(conteo_productos)"
   ]
  },
  {
   "cell_type": "code",
   "execution_count": 31,
   "metadata": {},
   "outputs": [],
   "source": [
    "# Guardar el DataFrame filtrado en un nuevo archivo CSV\n",
    "archivo_filtrado = 'historico_spread.csv'\n",
    "df_filtrado.to_csv(archivo_filtrado, index=False)"
   ]
  }
 ],
 "metadata": {
  "kernelspec": {
   "display_name": "Python 3",
   "language": "python",
   "name": "python3"
  },
  "language_info": {
   "codemirror_mode": {
    "name": "ipython",
    "version": 3
   },
   "file_extension": ".py",
   "mimetype": "text/x-python",
   "name": "python",
   "nbconvert_exporter": "python",
   "pygments_lexer": "ipython3",
   "version": "3.11.1"
  }
 },
 "nbformat": 4,
 "nbformat_minor": 2
}
