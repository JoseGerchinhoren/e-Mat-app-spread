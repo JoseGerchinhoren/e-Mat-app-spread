{
 "cells": [
  {
   "cell_type": "code",
   "execution_count": 5,
   "metadata": {},
   "outputs": [
    {
     "name": "stdout",
     "output_type": "stream",
     "text": [
      "Estado de la respuesta de precios de cierre: 200\n",
      "Datos guardados en precios_cierre.csv\n"
     ]
    }
   ],
   "source": [
    "import requests\n",
    "import json\n",
    "import csv\n",
    "\n",
    "# Definir la URL del endpoint de precios de cierre\n",
    "url_closing_prices = 'https://apicem.matbarofex.com.ar/api/v2/closing-prices'\n",
    "\n",
    "# Definir los parámetros para la API\n",
    "params = {\n",
    "    \"from\": \"2024-07-19\",\n",
    "    \"to\": \"2024-07-19\",\n",
    "    \"market\": \"ROFX\",\n",
    "    \"version\": \"v2\"\n",
    "}\n",
    "\n",
    "# Realizar la solicitud a la API para obtener la lista de precios de cierre\n",
    "response_closing_prices = requests.get(url_closing_prices, params=params)\n",
    "\n",
    "# Verificar el código de estado de la respuesta\n",
    "print(\"Estado de la respuesta de precios de cierre:\", response_closing_prices.status_code)\n",
    "\n",
    "# Intentar decodificar la respuesta como JSON\n",
    "try:\n",
    "    data_closing_prices = response_closing_prices.json()\n",
    "    \n",
    "    # Filtrar las columnas deseadas y cambiar el formato de los nombres de las columnas\n",
    "    filtered_data = [\n",
    "        {\n",
    "            \"PRODUCTO\": item.get(\"product\"),\n",
    "            \"TIPO CONTRATO\": item.get(\"symbol\"),\n",
    "            \"FECHA\": item.get(\"dateTime\")[:10],  # Extraer solo la fecha\n",
    "            \"AJUSTE / PRIMA REF.\": item.get(\"settlement\")\n",
    "        }\n",
    "        for item in data_closing_prices.get('data', [])\n",
    "    ]\n",
    "    \n",
    "    # Nombre del archivo CSV\n",
    "    csv_file = 'precios_cierre.csv'\n",
    "    \n",
    "    # Escribir los datos en el archivo CSV\n",
    "    with open(csv_file, mode='w', newline='') as file:\n",
    "        writer = csv.DictWriter(file, fieldnames=[\"PRODUCTO\", \"TIPO CONTRATO\", \"FECHA\", \"AJUSTE / PRIMA REF.\"])\n",
    "        writer.writeheader()\n",
    "        for row in filtered_data:\n",
    "            writer.writerow(row)\n",
    "    \n",
    "    print(f\"Datos guardados en {csv_file}\")\n",
    "except json.JSONDecodeError:\n",
    "    print(\"La respuesta de precios de cierre no contiene un JSON válido:\")\n",
    "    print(response_closing_prices.text)\n"
   ]
  }
 ],
 "metadata": {
  "kernelspec": {
   "display_name": "Python 3",
   "language": "python",
   "name": "python3"
  },
  "language_info": {
   "codemirror_mode": {
    "name": "ipython",
    "version": 3
   },
   "file_extension": ".py",
   "mimetype": "text/x-python",
   "name": "python",
   "nbconvert_exporter": "python",
   "pygments_lexer": "ipython3",
   "version": "3.11.1"
  }
 },
 "nbformat": 4,
 "nbformat_minor": 2
}
