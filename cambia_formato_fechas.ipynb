{
 "cells": [
  {
   "cell_type": "code",
   "execution_count": 1,
   "metadata": {},
   "outputs": [
    {
     "name": "stdout",
     "output_type": "stream",
     "text": [
      "Archivo CSV modificado guardado como 'historico_spread.csv'.\n"
     ]
    }
   ],
   "source": [
    "import pandas as pd\n",
    "\n",
    "# Cargar el archivo CSV en un DataFrame\n",
    "df = pd.read_csv('historico_spread.csv')\n",
    "\n",
    "# Convertir la columna 'FECHA' a tipo datetime\n",
    "df['FECHA'] = pd.to_datetime(df['FECHA'])\n",
    "\n",
    "# Extraer el año y el mes-día\n",
    "df['AÑO'] = df['FECHA'].dt.year\n",
    "df['MES-DIA'] = df['FECHA'].dt.strftime('%m-%d')\n",
    "\n",
    "# Opcional: eliminar la columna original 'FECHA'\n",
    "df.drop(columns=['FECHA'], inplace=True)\n",
    "\n",
    "# Guardar el DataFrame modificado en un nuevo archivo CSV\n",
    "df.to_csv('historico_spread.csv', index=False)\n",
    "\n",
    "print(\"Archivo CSV modificado guardado como 'historico_spread.csv'.\")\n"
   ]
  }
 ],
 "metadata": {
  "kernelspec": {
   "display_name": "Python 3",
   "language": "python",
   "name": "python3"
  },
  "language_info": {
   "codemirror_mode": {
    "name": "ipython",
    "version": 3
   },
   "file_extension": ".py",
   "mimetype": "text/x-python",
   "name": "python",
   "nbconvert_exporter": "python",
   "pygments_lexer": "ipython3",
   "version": "3.11.1"
  }
 },
 "nbformat": 4,
 "nbformat_minor": 2
}
